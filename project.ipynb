{
  "nbformat": 4,
  "nbformat_minor": 0,
  "metadata": {
    "colab": {
      "provenance": []
    },
    "kernelspec": {
      "name": "python3",
      "display_name": "Python 3"
    },
    "language_info": {
      "name": "python"
    }
  },
  "cells": [
    {
      "cell_type": "markdown",
      "source": [
        "#Create a simple library management system using Python that allows users to manage books and borrowers within a single session. The project will not include saving or loading data from files.\n"
      ],
      "metadata": {
        "id": "L2a99prEd_G1"
      }
    },
    {
      "cell_type": "code",
      "source": [
        "class Book:\n",
        "  def __init__(self,title,author,isbn):\n",
        "    self.title=title\n",
        "    self.author=author\n",
        "    self.isbn=isbn\n",
        "    self.is_available=True\n",
        "\n",
        "class Borrower:\n",
        "  def __init__(self,name,borrower_id):\n",
        "    self.name=name\n",
        "    self.borrower_id=borrower_id\n",
        "    self.borrowed_books=[]\n"
      ],
      "metadata": {
        "id": "naEoKXemeJxB"
      },
      "execution_count": null,
      "outputs": []
    },
    {
      "cell_type": "code",
      "source": [
        "class library:\n",
        "  def __init__(self):\n",
        "    self.books=[]\n",
        "    self.borrowers=[]\n",
        "  def add_books(self,title,author,isbn):\n",
        "    book=Book(title,author,isbn)\n",
        "    self.books.append(book)\n",
        "    print(f\"Book {title} is successfully added\")\n",
        "  def register_borrower(self,name,borrower_id):\n",
        "    borrower=Borrower(name,borrower_id)\n",
        "    self.borrowers.append(borrower)\n",
        "    print(f\"{name} is registered successfully\")\n",
        "  def borrow_book(self,borrower_id,isbn):\n",
        "    borrower=next((b for b in self.borrowers if b.borrower_id==b.borrower_id),None)\n",
        "    book=next((b for b in self.books if b.isbn==isbn and b.is_available),None)\n",
        "    if borrower and book:\n",
        "      borrower.borrowed_books.append(book)\n",
        "      book.is_available=False\n",
        "      print(f\"{book.title} is successfully borrowed by {borrower.name}\")\n",
        "    else:\n",
        "      print(\"Either the borrower_id is wrong or book is not available\")\n",
        "  def returning_book(self,borrower_id,isbn):\n",
        "    borrower=next((b for b in self.borrowers if b.borrower_id==borrower_id),None)\n",
        "    if borrower:\n",
        "      book=next((b for b in borrower.borrowed_books if b.isbn==b.isbn),None)\n",
        "      if book:\n",
        "        borrower.borrowed_books.remove(book)\n",
        "        book.is_available=True\n",
        "        print(f\"{book.title} is returned successfull\")\n",
        "      else:\n",
        "        print(\"borrower does not have this book\")\n",
        "    else:\n",
        "      print(\"Invalid borrower Id\")\n",
        "  def view_books(self):\n",
        "    print(\"Available books: \")\n",
        "    for book in self.books:\n",
        "      if book.is_available:\n",
        "        print(f\"{book.title} by {book.author} (ISBN: {book.isbn})\")\n",
        "\n",
        "\n",
        "\n",
        "\n",
        "\n",
        "\n"
      ],
      "metadata": {
        "id": "_CVbVX7We4ly"
      },
      "execution_count": null,
      "outputs": []
    },
    {
      "cell_type": "code",
      "source": [
        "my_lib=library()"
      ],
      "metadata": {
        "id": "8xwtzX_SmmJn"
      },
      "execution_count": null,
      "outputs": []
    },
    {
      "cell_type": "code",
      "source": [
        "my_lib.add_books(\"The Great Gatsby\",\"F. Scott Fitzgerald\",\"978-0743273565\")"
      ],
      "metadata": {
        "colab": {
          "base_uri": "https://localhost:8080/"
        },
        "id": "OkVHTBXKn0nk",
        "outputId": "0de4e4d4-1333-46f8-8b04-85c9929fa229"
      },
      "execution_count": null,
      "outputs": [
        {
          "output_type": "stream",
          "name": "stdout",
          "text": [
            "Book The Great Gatsby is successfully added\n"
          ]
        }
      ]
    },
    {
      "cell_type": "code",
      "source": [
        "my_lib.add_books(\"To Kill a Mockingbird\",\"Harper Lee\",\"978-0446310789\")"
      ],
      "metadata": {
        "colab": {
          "base_uri": "https://localhost:8080/"
        },
        "id": "Gqn2sw8Loco7",
        "outputId": "72d9e3be-a0ce-4982-f743-e1375e3227d2"
      },
      "execution_count": null,
      "outputs": [
        {
          "output_type": "stream",
          "name": "stdout",
          "text": [
            "Book To Kill a Mockingbird is successfully added\n"
          ]
        }
      ]
    },
    {
      "cell_type": "code",
      "source": [
        "my_lib.add_books(\"Stormlight Archive\",\"Brandon Sanderson\",\"978-0446310788\")"
      ],
      "metadata": {
        "colab": {
          "base_uri": "https://localhost:8080/"
        },
        "id": "xM5lvhs1og1k",
        "outputId": "952280d1-2b25-42ba-8b28-d47669735b99"
      },
      "execution_count": null,
      "outputs": [
        {
          "output_type": "stream",
          "name": "stdout",
          "text": [
            "Book Stormlight Archive is successfully added\n"
          ]
        }
      ]
    },
    {
      "cell_type": "code",
      "source": [
        "my_lib.register_borrower(\"John Doe\",\"B001\")"
      ],
      "metadata": {
        "colab": {
          "base_uri": "https://localhost:8080/"
        },
        "id": "LHdJ9zKwowft",
        "outputId": "06b4d217-0820-4fb9-b877-dbda47db6fa7"
      },
      "execution_count": null,
      "outputs": [
        {
          "output_type": "stream",
          "name": "stdout",
          "text": [
            "John Doe is registered successfully\n"
          ]
        }
      ]
    },
    {
      "cell_type": "code",
      "source": [
        "my_lib.register_borrower(\"Jane Smith\",\"B002\")"
      ],
      "metadata": {
        "colab": {
          "base_uri": "https://localhost:8080/"
        },
        "id": "T1Xdvct0o07r",
        "outputId": "f858e006-239a-493a-e77a-1c33671c55d8"
      },
      "execution_count": null,
      "outputs": [
        {
          "output_type": "stream",
          "name": "stdout",
          "text": [
            "Jane Smith is registered successfully\n"
          ]
        }
      ]
    },
    {
      "cell_type": "code",
      "source": [
        "my_lib.register_borrower(\"Alice Johnson\",\"B003\")"
      ],
      "metadata": {
        "colab": {
          "base_uri": "https://localhost:8080/"
        },
        "id": "2xindGt-o3r9",
        "outputId": "cf26f417-281b-4403-d956-4eac09de628c"
      },
      "execution_count": null,
      "outputs": [
        {
          "output_type": "stream",
          "name": "stdout",
          "text": [
            "Alice Johnson is registered successfully\n"
          ]
        }
      ]
    },
    {
      "cell_type": "code",
      "source": [
        "my_lib.view_books()"
      ],
      "metadata": {
        "colab": {
          "base_uri": "https://localhost:8080/"
        },
        "id": "hUqBC35co7ad",
        "outputId": "5044dbce-adac-4286-8ef7-84ffd57969e2"
      },
      "execution_count": null,
      "outputs": [
        {
          "output_type": "stream",
          "name": "stdout",
          "text": [
            "Available books: \n",
            "The Great Gatsby by F. Scott Fitzgerald (ISBN: 978-0743273565)\n",
            "To Kill a Mockingbird by Harper Lee (ISBN: 978-0446310789)\n",
            "Stormlight Archive by Brandon Sanderson (ISBN: 978-0446310788)\n"
          ]
        }
      ]
    },
    {
      "cell_type": "code",
      "source": [
        "my_lib.borrow_book(\"B001\",\"978-0743273565\")"
      ],
      "metadata": {
        "colab": {
          "base_uri": "https://localhost:8080/"
        },
        "id": "bHirwDiFpAIV",
        "outputId": "f6eb1b6f-f077-4678-ca56-fa76321175e7"
      },
      "execution_count": null,
      "outputs": [
        {
          "output_type": "stream",
          "name": "stdout",
          "text": [
            "The Great Gatsby is successfully borrowed by John Doe\n"
          ]
        }
      ]
    },
    {
      "cell_type": "code",
      "source": [
        "my_lib.view_books()"
      ],
      "metadata": {
        "colab": {
          "base_uri": "https://localhost:8080/"
        },
        "id": "FGEUcWNxpPA_",
        "outputId": "a7bc0102-57e0-4c02-dd06-b2f84b06cb0b"
      },
      "execution_count": null,
      "outputs": [
        {
          "output_type": "stream",
          "name": "stdout",
          "text": [
            "Available books: \n",
            "To Kill a Mockingbird by Harper Lee (ISBN: 978-0446310789)\n",
            "Stormlight Archive by Brandon Sanderson (ISBN: 978-0446310788)\n"
          ]
        }
      ]
    },
    {
      "cell_type": "code",
      "source": [
        "my_lib.returning_book(\"B001\",\"978-0743273565\")"
      ],
      "metadata": {
        "colab": {
          "base_uri": "https://localhost:8080/"
        },
        "id": "lfLcx9fnpoVX",
        "outputId": "55b11686-8999-4fdc-d174-0f27986cf25b"
      },
      "execution_count": null,
      "outputs": [
        {
          "output_type": "stream",
          "name": "stdout",
          "text": [
            "The Great Gatsby is returned successfull\n"
          ]
        }
      ]
    },
    {
      "cell_type": "code",
      "source": [
        "my_lib.view_books()"
      ],
      "metadata": {
        "colab": {
          "base_uri": "https://localhost:8080/"
        },
        "id": "28UadcW3przX",
        "outputId": "6e85731e-7281-4901-a50f-3c369d89d1b2"
      },
      "execution_count": null,
      "outputs": [
        {
          "output_type": "stream",
          "name": "stdout",
          "text": [
            "Available books: \n",
            "The Great Gatsby by F. Scott Fitzgerald (ISBN: 978-0743273565)\n",
            "To Kill a Mockingbird by Harper Lee (ISBN: 978-0446310789)\n",
            "Stormlight Archive by Brandon Sanderson (ISBN: 978-0446310788)\n"
          ]
        }
      ]
    }
  ]
}